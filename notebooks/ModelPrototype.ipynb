{
 "cells": [
  {
   "cell_type": "markdown",
   "metadata": {},
   "source": [
    "### Import Lib"
   ]
  },
  {
   "cell_type": "code",
   "execution_count": 1,
   "metadata": {},
   "outputs": [],
   "source": [
    "import os\n",
    "import sys\n",
    "import yaml\n",
    "import torch\n",
    "import joblib\n",
    "import torch.nn as nn"
   ]
  },
  {
   "cell_type": "markdown",
   "metadata": {},
   "source": [
    "### Utility files"
   ]
  },
  {
   "cell_type": "code",
   "execution_count": 7,
   "metadata": {},
   "outputs": [],
   "source": [
    "def config_files():\n",
    "    with open(\"../config.yml\", \"r\") as config_file:\n",
    "        return yaml.safe_load(config_file)\n",
    "\n",
    "\n",
    "def dump_file(value: None, filename: None):\n",
    "    if (value is not None) and (filename is not None):\n",
    "        joblib.dump(value=value, filename=filename)\n",
    "    else:\n",
    "        print(\"Error: 'value' and 'filename' must be provided.\".capitalize())\n",
    "\n",
    "\n",
    "def load_file(filename: None):\n",
    "    if filename is not None:\n",
    "        return joblib.load(filename=filename)\n",
    "    else:\n",
    "        print(\"Error: 'filename' must be provided.\".capitalize())\n",
    "\n",
    "\n",
    "def weight_init(m):\n",
    "    classname = m.__class__.__name__\n",
    "    if classname.find(\"Linear\") != -1:\n",
    "        nn.init.kaiming_normal_(m.weight.data)\n",
    "        if m.bias is not None:\n",
    "            nn.init.constant_(m.bias.data, 0.0)\n",
    "    elif classname.find(\"Conv\") != -1:\n",
    "        nn.init.kaiming_normal_(m.weight.data)\n",
    "        if m.bias is not None:\n",
    "            nn.init.constant_(m.bias.data, 0.0)\n",
    "\n",
    "\n",
    "def device_init(device: str = \"cuda\"):\n",
    "    if device == \"cuda\":\n",
    "        return torch.device(\"cuda\" if torch.cuda.is_available() else \"cpu\")\n",
    "    elif device == \"mps\":\n",
    "        return torch.device(\"mps\" if torch.backends.mps.is_available() else \"cpu\")\n",
    "    else:\n",
    "        return torch.device(\"cpu\")"
   ]
  },
  {
   "cell_type": "markdown",
   "metadata": {},
   "source": [
    "### Patch Embedding"
   ]
  },
  {
   "cell_type": "code",
   "execution_count": null,
   "metadata": {},
   "outputs": [],
   "source": [
    "class PatchEmbedding(nn.Module):\n",
    "    def __init__(\n",
    "        self,\n",
    "        channels: int = 3,\n",
    "        patch_size: int = 16,\n",
    "        image_size: int = 128,\n",
    "        dimension: int = None,\n",
    "    ):\n",
    "        super(PatchEmbedding, self).__init__()\n",
    "\n",
    "        self.in_channels = channels\n",
    "        self.patch_size = patch_size\n",
    "        self.dimension = dimension\n",
    "        self.image_size = image_size\n",
    "\n",
    "        if self.dimension is None:\n",
    "            self.dimension = (self.patch_size**2) * self.in_channels\n",
    "\n",
    "        self.number_of_pathches = (self.image_size // self.patch_size) ** 2\n",
    "\n",
    "        self.kernel_size, self.stride_size = self.patch_size, self.patch_size\n",
    "        self.padding_size = self.patch_size // self.patch_size\n",
    "\n",
    "        self.projection = nn.Conv2d(\n",
    "            in_channels=self.in_channels,\n",
    "            out_channels=self.dimension,\n",
    "            kernel_size=self.kernel_size,\n",
    "            stride=self.stride_size,\n",
    "            padding=self.padding_size,\n",
    "            bias=False,\n",
    "        )\n",
    "\n",
    "        self.positional_embeddings = nn.Parameter(\n",
    "            torch.randn(self.padding_size, self.number_of_pathches, self.dimension),\n",
    "            requires_grad=True,\n",
    "        )\n",
    "\n",
    "    def forward(self, x: torch.Tensor):\n",
    "        if isinstance(x, torch.Tensor):\n",
    "            x = self.projection(x)\n",
    "            x = x.view(x.size(0), x.size(1), -1)\n",
    "            x = x.permute(0, 2, 1)\n",
    "            x = self.positional_embeddings + x\n",
    "            return x\n",
    "        else:\n",
    "            raise ValueError(\"Input must be a torch tensor.\".capitalize())\n",
    "\n",
    "    @staticmethod\n",
    "    def total_params(model):\n",
    "        if isinstance(model, PatchEmbedding):\n",
    "            return sum(params.numel() for params in model.parameters())\n",
    "\n",
    "\n",
    "if __name__ == \"__main__\":\n",
    "    image_channels = config_files()[\"patchEmbeddings\"][\"channels\"]\n",
    "    image_size = config_files()[\"patchEmbeddings\"][\"image_size\"]\n",
    "    patch_size = config_files()[\"patchEmbeddings\"][\"patch_size\"]\n",
    "    dimension = config_files()[\"patchEmbeddings\"][\"dimension\"]\n",
    "\n",
    "    pathEmbedding = PatchEmbedding(\n",
    "        channels=image_channels,\n",
    "        patch_size=patch_size,\n",
    "        image_size=image_size,\n",
    "        dimension=dimension,\n",
    "    )\n",
    "\n",
    "    image = torch.randn(\n",
    "        (image_channels // image_channels, image_channels, image_size, image_size)\n",
    "    )\n",
    "\n",
    "    assert (pathEmbedding(image).size()) == (\n",
    "        image_channels // image_channels,\n",
    "        (image_size // patch_size) ** 2,\n",
    "        dimension,\n",
    "    )"
   ]
  },
  {
   "cell_type": "code",
   "execution_count": null,
   "metadata": {},
   "outputs": [],
   "source": []
  },
  {
   "cell_type": "code",
   "execution_count": null,
   "metadata": {},
   "outputs": [],
   "source": []
  }
 ],
 "metadata": {
  "kernelspec": {
   "display_name": "GPSG",
   "language": "python",
   "name": "python3"
  },
  "language_info": {
   "codemirror_mode": {
    "name": "ipython",
    "version": 3
   },
   "file_extension": ".py",
   "mimetype": "text/x-python",
   "name": "python",
   "nbconvert_exporter": "python",
   "pygments_lexer": "ipython3",
   "version": "3.9.18"
  }
 },
 "nbformat": 4,
 "nbformat_minor": 2
}
